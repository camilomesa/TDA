{
 "cells": [
  {
   "cell_type": "code",
   "execution_count": 81,
   "id": "92765bf7",
   "metadata": {},
   "outputs": [],
   "source": [
    "import numpy as np\n",
    "import pandas as pd\n",
    "import matplotlib.pyplot as plt\n",
    "from sklearn.linear_model import LogisticRegression\n",
    "import kmapper as km\n",
    "from sklearn.decomposition import PCA\n",
    "from sklearn.preprocessing import StandardScaler\n",
    "from sklearn.model_selection import train_test_split\n",
    "from sklearn.cluster import DBSCAN\n",
    "from kmapper import jupyter"
   ]
  },
  {
   "cell_type": "code",
   "execution_count": 82,
   "id": "314e816b",
   "metadata": {},
   "outputs": [],
   "source": [
    "df = pd.read_csv('creditcard.csv')"
   ]
  },
  {
   "cell_type": "code",
   "execution_count": 83,
   "id": "7ff50d10",
   "metadata": {},
   "outputs": [],
   "source": [
    "Class = df['Class']\n",
    "df.drop(['Class'], axis = 1, inplace = True)"
   ]
  },
  {
   "cell_type": "code",
   "execution_count": 84,
   "id": "72bfb2df",
   "metadata": {},
   "outputs": [],
   "source": [
    "pca = PCA(n_components = 8)\n",
    "pc = pca.fit_transform(df)\n",
    "col_names = ['PC' + str(k) for k in range(1, pc.shape[1]+1)]\n",
    "data_PC = pd.DataFrame(pc, columns = col_names).iloc[:,:(n-1)]"
   ]
  },
  {
   "cell_type": "code",
   "execution_count": 85,
   "id": "c925d71b",
   "metadata": {},
   "outputs": [],
   "source": [
    "X_train, X_test, y_train, y_test = train_test_split(data_PC, y, test_size = 0.1, random_state = 1)"
   ]
  },
  {
   "cell_type": "code",
   "execution_count": 86,
   "id": "0dcae3f9",
   "metadata": {},
   "outputs": [],
   "source": [
    "scaler = StandardScaler()\n",
    "train_std = scaler.fit_transform(X_train)\n",
    "test_std = scaler.fit_transform(X_test)\n",
    "test = scaler.fit_transform(data_PC)"
   ]
  },
  {
   "cell_type": "code",
   "execution_count": 87,
   "id": "17e801f3",
   "metadata": {},
   "outputs": [],
   "source": [
    "reg = LogisticRegression().fit(train_std,y_train)\n",
    "probs = reg.predict_proba(test)"
   ]
  },
  {
   "cell_type": "code",
   "execution_count": 92,
   "id": "47c7445a",
   "metadata": {},
   "outputs": [
    {
     "data": {
      "text/html": [
       "<style>\n",
       "        .container { width:100% !important; }\n",
       "        .output_scroll {height: 800px !important;}\n",
       "        </style>"
      ],
      "text/plain": [
       "<IPython.core.display.HTML object>"
      ]
     },
     "metadata": {},
     "output_type": "display_data"
    },
    {
     "name": "stderr",
     "output_type": "stream",
     "text": [
      "/home/asche/.local/lib/python3.9/site-packages/IPython/core/display.py:724: UserWarning: Consider using IPython.display.IFrame instead\n",
      "  warnings.warn(\"Consider using IPython.display.IFrame instead\")\n"
     ]
    },
    {
     "data": {
      "text/html": [
       "<iframe src=creditCard.html width=100%% height=800 frameBorder=\"0\"></iframe>"
      ],
      "text/plain": [
       "<IPython.core.display.HTML object>"
      ]
     },
     "metadata": {},
     "output_type": "display_data"
    }
   ],
   "source": [
    "mapper = km.KeplerMapper(verbose = 0)\n",
    "graph = mapper.map(probs[:,1],\n",
    "                   data_PC,\n",
    "                   cover = km.Cover(n_cubes=15, perc_overlap=0.7),\n",
    "                   clusterer = DBSCAN(eps =.7))\n",
    "html = mapper.visualize(graph, \n",
    "                        color_values= Class,\n",
    "                        color_function_name = 'centrality',\n",
    "                        node_color_function = ['median', 'max', 'average'], \n",
    "                        path_html=\"creditCard.html\",\n",
    "                        title=\"credit card\")\n",
    "jupyter.display(path_html=\"creditCard.html\")"
   ]
  },
  {
   "cell_type": "code",
   "execution_count": null,
   "id": "90a69b07",
   "metadata": {},
   "outputs": [],
   "source": []
  }
 ],
 "metadata": {
  "kernelspec": {
   "display_name": "Python 3 (ipykernel)",
   "language": "python",
   "name": "python3"
  },
  "language_info": {
   "codemirror_mode": {
    "name": "ipython",
    "version": 3
   },
   "file_extension": ".py",
   "mimetype": "text/x-python",
   "name": "python",
   "nbconvert_exporter": "python",
   "pygments_lexer": "ipython3",
   "version": "3.9.8"
  }
 },
 "nbformat": 4,
 "nbformat_minor": 5
}
